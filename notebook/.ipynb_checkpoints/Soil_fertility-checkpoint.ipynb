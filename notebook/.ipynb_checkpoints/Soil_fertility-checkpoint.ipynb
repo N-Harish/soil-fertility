{
 "cells": [
  {
   "cell_type": "code",
   "execution_count": 2,
   "metadata": {
    "ExecuteTime": {
     "end_time": "2021-08-25T11:37:12.676478Z",
     "start_time": "2021-08-25T11:37:07.237349Z"
    }
   },
   "outputs": [],
   "source": [
    "import numpy as np\n",
    "import pandas as pd\n",
    "import seaborn as sns\n",
    "import plotly.express as px\n",
    "import matplotlib.pylab as plt\n",
    "plt.style.use(\"seaborn\")\n",
    "import warnings\n",
    "warnings.filterwarnings('ignore')\n",
    "import pickle"
   ]
  },
  {
   "cell_type": "code",
   "execution_count": 141,
   "metadata": {
    "ExecuteTime": {
     "end_time": "2021-08-23T15:12:27.842490Z",
     "start_time": "2021-08-23T15:12:27.808150Z"
    }
   },
   "outputs": [],
   "source": [
    "df = pd.read_csv(\"./proper_dataset1.csv\")"
   ]
  },
  {
   "cell_type": "code",
   "execution_count": 142,
   "metadata": {
    "ExecuteTime": {
     "end_time": "2021-08-23T15:12:31.215426Z",
     "start_time": "2021-08-23T15:12:31.201429Z"
    }
   },
   "outputs": [
    {
     "data": {
      "text/plain": [
       "N            0\n",
       "P            0\n",
       "K            0\n",
       "ph           0\n",
       "ec           0\n",
       "oc           0\n",
       "S            0\n",
       "zn           0\n",
       "fe           0\n",
       "cu           0\n",
       "Mn           0\n",
       "B            0\n",
       "fertility    0\n",
       "dtype: int64"
      ]
     },
     "execution_count": 142,
     "metadata": {},
     "output_type": "execute_result"
    }
   ],
   "source": [
    "df.isna().sum()"
   ]
  },
  {
   "cell_type": "code",
   "execution_count": 143,
   "metadata": {
    "ExecuteTime": {
     "end_time": "2021-08-23T15:12:33.430461Z",
     "start_time": "2021-08-23T15:12:33.401209Z"
    }
   },
   "outputs": [
    {
     "data": {
      "text/html": [
       "<div>\n",
       "<style scoped>\n",
       "    .dataframe tbody tr th:only-of-type {\n",
       "        vertical-align: middle;\n",
       "    }\n",
       "\n",
       "    .dataframe tbody tr th {\n",
       "        vertical-align: top;\n",
       "    }\n",
       "\n",
       "    .dataframe thead th {\n",
       "        text-align: right;\n",
       "    }\n",
       "</style>\n",
       "<table border=\"1\" class=\"dataframe\">\n",
       "  <thead>\n",
       "    <tr style=\"text-align: right;\">\n",
       "      <th></th>\n",
       "      <th>N</th>\n",
       "      <th>P</th>\n",
       "      <th>K</th>\n",
       "      <th>ph</th>\n",
       "      <th>ec</th>\n",
       "      <th>oc</th>\n",
       "      <th>S</th>\n",
       "      <th>zn</th>\n",
       "      <th>fe</th>\n",
       "      <th>cu</th>\n",
       "      <th>Mn</th>\n",
       "      <th>B</th>\n",
       "      <th>fertility</th>\n",
       "    </tr>\n",
       "  </thead>\n",
       "  <tbody>\n",
       "    <tr>\n",
       "      <th>0</th>\n",
       "      <td>138</td>\n",
       "      <td>8.6</td>\n",
       "      <td>560</td>\n",
       "      <td>7.46</td>\n",
       "      <td>0.62</td>\n",
       "      <td>0.70</td>\n",
       "      <td>5.9</td>\n",
       "      <td>0.24</td>\n",
       "      <td>0.31</td>\n",
       "      <td>0.77</td>\n",
       "      <td>8.71</td>\n",
       "      <td>0.11</td>\n",
       "      <td>0</td>\n",
       "    </tr>\n",
       "    <tr>\n",
       "      <th>1</th>\n",
       "      <td>213</td>\n",
       "      <td>7.5</td>\n",
       "      <td>338</td>\n",
       "      <td>7.62</td>\n",
       "      <td>0.75</td>\n",
       "      <td>1.06</td>\n",
       "      <td>25.4</td>\n",
       "      <td>0.30</td>\n",
       "      <td>0.86</td>\n",
       "      <td>1.54</td>\n",
       "      <td>2.89</td>\n",
       "      <td>2.29</td>\n",
       "      <td>0</td>\n",
       "    </tr>\n",
       "    <tr>\n",
       "      <th>2</th>\n",
       "      <td>163</td>\n",
       "      <td>9.6</td>\n",
       "      <td>718</td>\n",
       "      <td>7.59</td>\n",
       "      <td>0.51</td>\n",
       "      <td>1.11</td>\n",
       "      <td>14.3</td>\n",
       "      <td>0.30</td>\n",
       "      <td>0.86</td>\n",
       "      <td>1.57</td>\n",
       "      <td>2.70</td>\n",
       "      <td>2.03</td>\n",
       "      <td>0</td>\n",
       "    </tr>\n",
       "    <tr>\n",
       "      <th>3</th>\n",
       "      <td>157</td>\n",
       "      <td>6.8</td>\n",
       "      <td>475</td>\n",
       "      <td>7.64</td>\n",
       "      <td>0.58</td>\n",
       "      <td>0.94</td>\n",
       "      <td>26.0</td>\n",
       "      <td>0.34</td>\n",
       "      <td>0.54</td>\n",
       "      <td>1.53</td>\n",
       "      <td>2.65</td>\n",
       "      <td>1.82</td>\n",
       "      <td>0</td>\n",
       "    </tr>\n",
       "    <tr>\n",
       "      <th>4</th>\n",
       "      <td>270</td>\n",
       "      <td>9.9</td>\n",
       "      <td>444</td>\n",
       "      <td>7.63</td>\n",
       "      <td>0.40</td>\n",
       "      <td>0.86</td>\n",
       "      <td>11.8</td>\n",
       "      <td>0.25</td>\n",
       "      <td>0.76</td>\n",
       "      <td>1.69</td>\n",
       "      <td>2.43</td>\n",
       "      <td>2.26</td>\n",
       "      <td>1</td>\n",
       "    </tr>\n",
       "  </tbody>\n",
       "</table>\n",
       "</div>"
      ],
      "text/plain": [
       "     N    P    K    ph    ec    oc     S    zn    fe    cu    Mn     B  \\\n",
       "0  138  8.6  560  7.46  0.62  0.70   5.9  0.24  0.31  0.77  8.71  0.11   \n",
       "1  213  7.5  338  7.62  0.75  1.06  25.4  0.30  0.86  1.54  2.89  2.29   \n",
       "2  163  9.6  718  7.59  0.51  1.11  14.3  0.30  0.86  1.57  2.70  2.03   \n",
       "3  157  6.8  475  7.64  0.58  0.94  26.0  0.34  0.54  1.53  2.65  1.82   \n",
       "4  270  9.9  444  7.63  0.40  0.86  11.8  0.25  0.76  1.69  2.43  2.26   \n",
       "\n",
       "   fertility  \n",
       "0          0  \n",
       "1          0  \n",
       "2          0  \n",
       "3          0  \n",
       "4          1  "
      ]
     },
     "execution_count": 143,
     "metadata": {},
     "output_type": "execute_result"
    }
   ],
   "source": [
    "df.head()"
   ]
  },
  {
   "cell_type": "code",
   "execution_count": 144,
   "metadata": {
    "ExecuteTime": {
     "end_time": "2021-08-23T15:12:35.508040Z",
     "start_time": "2021-08-23T15:12:35.485323Z"
    }
   },
   "outputs": [
    {
     "data": {
      "text/html": [
       "<div>\n",
       "<style scoped>\n",
       "    .dataframe tbody tr th:only-of-type {\n",
       "        vertical-align: middle;\n",
       "    }\n",
       "\n",
       "    .dataframe tbody tr th {\n",
       "        vertical-align: top;\n",
       "    }\n",
       "\n",
       "    .dataframe thead th {\n",
       "        text-align: right;\n",
       "    }\n",
       "</style>\n",
       "<table border=\"1\" class=\"dataframe\">\n",
       "  <thead>\n",
       "    <tr style=\"text-align: right;\">\n",
       "      <th></th>\n",
       "      <th>N</th>\n",
       "      <th>P</th>\n",
       "      <th>K</th>\n",
       "      <th>ph</th>\n",
       "      <th>ec</th>\n",
       "      <th>oc</th>\n",
       "      <th>S</th>\n",
       "      <th>zn</th>\n",
       "      <th>fe</th>\n",
       "      <th>cu</th>\n",
       "      <th>Mn</th>\n",
       "      <th>B</th>\n",
       "      <th>fertility</th>\n",
       "    </tr>\n",
       "  </thead>\n",
       "  <tbody>\n",
       "    <tr>\n",
       "      <th>N</th>\n",
       "      <td>1.000000</td>\n",
       "      <td>-0.010049</td>\n",
       "      <td>0.050616</td>\n",
       "      <td>0.075138</td>\n",
       "      <td>-0.005646</td>\n",
       "      <td>0.029887</td>\n",
       "      <td>-0.124959</td>\n",
       "      <td>0.054240</td>\n",
       "      <td>0.076108</td>\n",
       "      <td>-0.183832</td>\n",
       "      <td>0.105870</td>\n",
       "      <td>-0.170835</td>\n",
       "      <td>0.707383</td>\n",
       "    </tr>\n",
       "    <tr>\n",
       "      <th>P</th>\n",
       "      <td>-0.010049</td>\n",
       "      <td>1.000000</td>\n",
       "      <td>0.086964</td>\n",
       "      <td>0.004857</td>\n",
       "      <td>0.006082</td>\n",
       "      <td>-0.008996</td>\n",
       "      <td>-0.100204</td>\n",
       "      <td>-0.016912</td>\n",
       "      <td>0.141165</td>\n",
       "      <td>0.054689</td>\n",
       "      <td>0.045265</td>\n",
       "      <td>-0.097401</td>\n",
       "      <td>0.212780</td>\n",
       "    </tr>\n",
       "    <tr>\n",
       "      <th>K</th>\n",
       "      <td>0.050616</td>\n",
       "      <td>0.086964</td>\n",
       "      <td>1.000000</td>\n",
       "      <td>0.002661</td>\n",
       "      <td>-0.109726</td>\n",
       "      <td>-0.029005</td>\n",
       "      <td>0.026489</td>\n",
       "      <td>-0.002511</td>\n",
       "      <td>-0.053442</td>\n",
       "      <td>-0.005597</td>\n",
       "      <td>0.021157</td>\n",
       "      <td>0.108025</td>\n",
       "      <td>0.059666</td>\n",
       "    </tr>\n",
       "    <tr>\n",
       "      <th>ph</th>\n",
       "      <td>0.075138</td>\n",
       "      <td>0.004857</td>\n",
       "      <td>0.002661</td>\n",
       "      <td>1.000000</td>\n",
       "      <td>0.058217</td>\n",
       "      <td>-0.015926</td>\n",
       "      <td>0.013164</td>\n",
       "      <td>-0.008321</td>\n",
       "      <td>-0.032685</td>\n",
       "      <td>-0.000223</td>\n",
       "      <td>-0.008488</td>\n",
       "      <td>0.010115</td>\n",
       "      <td>0.082584</td>\n",
       "    </tr>\n",
       "    <tr>\n",
       "      <th>ec</th>\n",
       "      <td>-0.005646</td>\n",
       "      <td>0.006082</td>\n",
       "      <td>-0.109726</td>\n",
       "      <td>0.058217</td>\n",
       "      <td>1.000000</td>\n",
       "      <td>-0.007045</td>\n",
       "      <td>0.051810</td>\n",
       "      <td>-0.035703</td>\n",
       "      <td>-0.041525</td>\n",
       "      <td>0.035638</td>\n",
       "      <td>-0.043662</td>\n",
       "      <td>-0.004469</td>\n",
       "      <td>-0.025346</td>\n",
       "    </tr>\n",
       "    <tr>\n",
       "      <th>oc</th>\n",
       "      <td>0.029887</td>\n",
       "      <td>-0.008996</td>\n",
       "      <td>-0.029005</td>\n",
       "      <td>-0.015926</td>\n",
       "      <td>-0.007045</td>\n",
       "      <td>1.000000</td>\n",
       "      <td>0.046813</td>\n",
       "      <td>0.625683</td>\n",
       "      <td>0.282128</td>\n",
       "      <td>-0.009703</td>\n",
       "      <td>-0.078540</td>\n",
       "      <td>0.106760</td>\n",
       "      <td>0.035416</td>\n",
       "    </tr>\n",
       "    <tr>\n",
       "      <th>S</th>\n",
       "      <td>-0.124959</td>\n",
       "      <td>-0.100204</td>\n",
       "      <td>0.026489</td>\n",
       "      <td>0.013164</td>\n",
       "      <td>0.051810</td>\n",
       "      <td>0.046813</td>\n",
       "      <td>1.000000</td>\n",
       "      <td>-0.013870</td>\n",
       "      <td>-0.208752</td>\n",
       "      <td>0.158130</td>\n",
       "      <td>-0.226249</td>\n",
       "      <td>0.478017</td>\n",
       "      <td>-0.061733</td>\n",
       "    </tr>\n",
       "    <tr>\n",
       "      <th>zn</th>\n",
       "      <td>0.054240</td>\n",
       "      <td>-0.016912</td>\n",
       "      <td>-0.002511</td>\n",
       "      <td>-0.008321</td>\n",
       "      <td>-0.035703</td>\n",
       "      <td>0.625683</td>\n",
       "      <td>-0.013870</td>\n",
       "      <td>1.000000</td>\n",
       "      <td>0.548485</td>\n",
       "      <td>-0.051229</td>\n",
       "      <td>-0.065154</td>\n",
       "      <td>0.056252</td>\n",
       "      <td>0.032089</td>\n",
       "    </tr>\n",
       "    <tr>\n",
       "      <th>fe</th>\n",
       "      <td>0.076108</td>\n",
       "      <td>0.141165</td>\n",
       "      <td>-0.053442</td>\n",
       "      <td>-0.032685</td>\n",
       "      <td>-0.041525</td>\n",
       "      <td>0.282128</td>\n",
       "      <td>-0.208752</td>\n",
       "      <td>0.548485</td>\n",
       "      <td>1.000000</td>\n",
       "      <td>0.138121</td>\n",
       "      <td>0.275564</td>\n",
       "      <td>-0.332181</td>\n",
       "      <td>0.037625</td>\n",
       "    </tr>\n",
       "    <tr>\n",
       "      <th>cu</th>\n",
       "      <td>-0.183832</td>\n",
       "      <td>0.054689</td>\n",
       "      <td>-0.005597</td>\n",
       "      <td>-0.000223</td>\n",
       "      <td>0.035638</td>\n",
       "      <td>-0.009703</td>\n",
       "      <td>0.158130</td>\n",
       "      <td>-0.051229</td>\n",
       "      <td>0.138121</td>\n",
       "      <td>1.000000</td>\n",
       "      <td>0.079934</td>\n",
       "      <td>0.101115</td>\n",
       "      <td>-0.136954</td>\n",
       "    </tr>\n",
       "    <tr>\n",
       "      <th>Mn</th>\n",
       "      <td>0.105870</td>\n",
       "      <td>0.045265</td>\n",
       "      <td>0.021157</td>\n",
       "      <td>-0.008488</td>\n",
       "      <td>-0.043662</td>\n",
       "      <td>-0.078540</td>\n",
       "      <td>-0.226249</td>\n",
       "      <td>-0.065154</td>\n",
       "      <td>0.275564</td>\n",
       "      <td>0.079934</td>\n",
       "      <td>1.000000</td>\n",
       "      <td>-0.413963</td>\n",
       "      <td>0.045976</td>\n",
       "    </tr>\n",
       "    <tr>\n",
       "      <th>B</th>\n",
       "      <td>-0.170835</td>\n",
       "      <td>-0.097401</td>\n",
       "      <td>0.108025</td>\n",
       "      <td>0.010115</td>\n",
       "      <td>-0.004469</td>\n",
       "      <td>0.106760</td>\n",
       "      <td>0.478017</td>\n",
       "      <td>0.056252</td>\n",
       "      <td>-0.332181</td>\n",
       "      <td>0.101115</td>\n",
       "      <td>-0.413963</td>\n",
       "      <td>1.000000</td>\n",
       "      <td>-0.033188</td>\n",
       "    </tr>\n",
       "    <tr>\n",
       "      <th>fertility</th>\n",
       "      <td>0.707383</td>\n",
       "      <td>0.212780</td>\n",
       "      <td>0.059666</td>\n",
       "      <td>0.082584</td>\n",
       "      <td>-0.025346</td>\n",
       "      <td>0.035416</td>\n",
       "      <td>-0.061733</td>\n",
       "      <td>0.032089</td>\n",
       "      <td>0.037625</td>\n",
       "      <td>-0.136954</td>\n",
       "      <td>0.045976</td>\n",
       "      <td>-0.033188</td>\n",
       "      <td>1.000000</td>\n",
       "    </tr>\n",
       "  </tbody>\n",
       "</table>\n",
       "</div>"
      ],
      "text/plain": [
       "                  N         P         K        ph        ec        oc  \\\n",
       "N          1.000000 -0.010049  0.050616  0.075138 -0.005646  0.029887   \n",
       "P         -0.010049  1.000000  0.086964  0.004857  0.006082 -0.008996   \n",
       "K          0.050616  0.086964  1.000000  0.002661 -0.109726 -0.029005   \n",
       "ph         0.075138  0.004857  0.002661  1.000000  0.058217 -0.015926   \n",
       "ec        -0.005646  0.006082 -0.109726  0.058217  1.000000 -0.007045   \n",
       "oc         0.029887 -0.008996 -0.029005 -0.015926 -0.007045  1.000000   \n",
       "S         -0.124959 -0.100204  0.026489  0.013164  0.051810  0.046813   \n",
       "zn         0.054240 -0.016912 -0.002511 -0.008321 -0.035703  0.625683   \n",
       "fe         0.076108  0.141165 -0.053442 -0.032685 -0.041525  0.282128   \n",
       "cu        -0.183832  0.054689 -0.005597 -0.000223  0.035638 -0.009703   \n",
       "Mn         0.105870  0.045265  0.021157 -0.008488 -0.043662 -0.078540   \n",
       "B         -0.170835 -0.097401  0.108025  0.010115 -0.004469  0.106760   \n",
       "fertility  0.707383  0.212780  0.059666  0.082584 -0.025346  0.035416   \n",
       "\n",
       "                  S        zn        fe        cu        Mn         B  \\\n",
       "N         -0.124959  0.054240  0.076108 -0.183832  0.105870 -0.170835   \n",
       "P         -0.100204 -0.016912  0.141165  0.054689  0.045265 -0.097401   \n",
       "K          0.026489 -0.002511 -0.053442 -0.005597  0.021157  0.108025   \n",
       "ph         0.013164 -0.008321 -0.032685 -0.000223 -0.008488  0.010115   \n",
       "ec         0.051810 -0.035703 -0.041525  0.035638 -0.043662 -0.004469   \n",
       "oc         0.046813  0.625683  0.282128 -0.009703 -0.078540  0.106760   \n",
       "S          1.000000 -0.013870 -0.208752  0.158130 -0.226249  0.478017   \n",
       "zn        -0.013870  1.000000  0.548485 -0.051229 -0.065154  0.056252   \n",
       "fe        -0.208752  0.548485  1.000000  0.138121  0.275564 -0.332181   \n",
       "cu         0.158130 -0.051229  0.138121  1.000000  0.079934  0.101115   \n",
       "Mn        -0.226249 -0.065154  0.275564  0.079934  1.000000 -0.413963   \n",
       "B          0.478017  0.056252 -0.332181  0.101115 -0.413963  1.000000   \n",
       "fertility -0.061733  0.032089  0.037625 -0.136954  0.045976 -0.033188   \n",
       "\n",
       "           fertility  \n",
       "N           0.707383  \n",
       "P           0.212780  \n",
       "K           0.059666  \n",
       "ph          0.082584  \n",
       "ec         -0.025346  \n",
       "oc          0.035416  \n",
       "S          -0.061733  \n",
       "zn          0.032089  \n",
       "fe          0.037625  \n",
       "cu         -0.136954  \n",
       "Mn          0.045976  \n",
       "B          -0.033188  \n",
       "fertility   1.000000  "
      ]
     },
     "execution_count": 144,
     "metadata": {},
     "output_type": "execute_result"
    }
   ],
   "source": [
    "df.corr()"
   ]
  },
  {
   "cell_type": "code",
   "execution_count": 145,
   "metadata": {
    "ExecuteTime": {
     "end_time": "2021-08-23T15:12:37.834748Z",
     "start_time": "2021-08-23T15:12:37.826748Z"
    }
   },
   "outputs": [],
   "source": [
    "df1 = df.drop([\"zn\"], axis=1)"
   ]
  },
  {
   "cell_type": "code",
   "execution_count": 146,
   "metadata": {
    "ExecuteTime": {
     "end_time": "2021-08-23T15:12:45.879880Z",
     "start_time": "2021-08-23T15:12:45.251325Z"
    }
   },
   "outputs": [
    {
     "data": {
      "image/png": "[encoded data removed]",
      "text/plain": [
       "<Figure size 720x720 with 2 Axes>"
      ]
     },
     "metadata": {},
     "output_type": "display_data"
    }
   ],
   "source": [
    "plt.figure(figsize=(10,10))\n",
    "heat_map = sns.heatmap(df1.corr(), linewidth = 1 , annot = True)\n",
    "plt.title( \"HeatMap using Seaborn Method\" )\n",
    "plt.show()"
   ]
  },
  {
   "cell_type": "code",
   "execution_count": 147,
   "metadata": {
    "ExecuteTime": {
     "end_time": "2021-08-23T15:12:47.868634Z",
     "start_time": "2021-08-23T15:12:47.850598Z"
    }
   },
   "outputs": [
    {
     "data": {
      "text/plain": [
       "Index(['N', 'P', 'K', 'ph', 'ec', 'oc', 'S', 'fe', 'cu', 'Mn', 'B',\n",
       "       'fertility'],\n",
       "      dtype='object')"
      ]
     },
     "execution_count": 147,
     "metadata": {},
     "output_type": "execute_result"
    }
   ],
   "source": [
    "df1.columns"
   ]
  },
  {
   "cell_type": "markdown",
   "metadata": {},
   "source": [
    "# Cross Validation"
   ]
  },
  {
   "cell_type": "code",
   "execution_count": 148,
   "metadata": {
    "ExecuteTime": {
     "end_time": "2021-08-23T15:12:49.947497Z",
     "start_time": "2021-08-23T15:12:49.936502Z"
    }
   },
   "outputs": [],
   "source": [
    "X = df1.drop(['fertility'], axis = 1)\n",
    "y = df1[\"fertility\"]"
   ]
  },
  {
   "cell_type": "code",
   "execution_count": 149,
   "metadata": {
    "ExecuteTime": {
     "end_time": "2021-08-23T15:12:51.696039Z",
     "start_time": "2021-08-23T15:12:51.680324Z"
    }
   },
   "outputs": [],
   "source": [
    "from sklearn.model_selection import train_test_split, GridSearchCV\n",
    "X_train, X_test, y_train, y_test = train_test_split(X, y, test_size = 0.2, random_state = 42, stratify=y)"
   ]
  },
  {
   "cell_type": "markdown",
   "metadata": {},
   "source": [
    "# Model Creation"
   ]
  },
  {
   "cell_type": "code",
   "execution_count": 150,
   "metadata": {
    "ExecuteTime": {
     "end_time": "2021-08-23T15:12:53.549475Z",
     "start_time": "2021-08-23T15:12:53.531354Z"
    }
   },
   "outputs": [],
   "source": [
    "from sklearn.ensemble import RandomForestClassifier,ExtraTreesClassifier, AdaBoostClassifier\n",
    "from sklearn.linear_model import LogisticRegression, RidgeClassifier\n",
    "from sklearn.svm import SVC\n",
    "from sklearn.svm import LinearSVC\n",
    "from sklearn.neighbors import KNeighborsClassifier\n",
    "from sklearn.naive_bayes import MultinomialNB\n",
    "from sklearn.metrics import classification_report\n",
    "from lightgbm import LGBMClassifier\n",
    "from xgboost import XGBClassifier"
   ]
  },
  {
   "cell_type": "code",
   "execution_count": 151,
   "metadata": {
    "ExecuteTime": {
     "end_time": "2021-08-23T15:12:55.187373Z",
     "start_time": "2021-08-23T15:12:55.168240Z"
    }
   },
   "outputs": [],
   "source": [
    "def model_training_metrics(model):\n",
    "    model.fit(X_train, y_train)\n",
    "    y_pred = model.predict(X_test)\n",
    "    clf = classification_report(y_test, y_pred)\n",
    "    print(clf)"
   ]
  },
  {
   "cell_type": "markdown",
   "metadata": {},
   "source": [
    "# Random Forest Classifier"
   ]
  },
  {
   "cell_type": "code",
   "execution_count": 162,
   "metadata": {
    "ExecuteTime": {
     "end_time": "2021-08-23T15:14:15.775310Z",
     "start_time": "2021-08-23T15:14:15.584026Z"
    }
   },
   "outputs": [
    {
     "name": "stdout",
     "output_type": "stream",
     "text": [
      "              precision    recall  f1-score   support\n",
      "\n",
      "           0       0.91      0.93      0.92        80\n",
      "           1       0.89      0.94      0.92        88\n",
      "           2       1.00      0.25      0.40         8\n",
      "\n",
      "    accuracy                           0.90       176\n",
      "   macro avg       0.94      0.71      0.75       176\n",
      "weighted avg       0.91      0.90      0.89       176\n",
      "\n"
     ]
    }
   ],
   "source": [
    "rfc = RandomForestClassifier()\n",
    "model_training_metrics(rfc)"
   ]
  },
  {
   "cell_type": "markdown",
   "metadata": {},
   "source": [
    "# Extra Trees Classifier"
   ]
  },
  {
   "cell_type": "code",
   "execution_count": 153,
   "metadata": {
    "ExecuteTime": {
     "end_time": "2021-08-23T15:13:01.725078Z",
     "start_time": "2021-08-23T15:13:01.586988Z"
    }
   },
   "outputs": [
    {
     "name": "stdout",
     "output_type": "stream",
     "text": [
      "              precision    recall  f1-score   support\n",
      "\n",
      "           0       0.92      0.91      0.92        80\n",
      "           1       0.86      0.94      0.90        88\n",
      "           2       0.00      0.00      0.00         8\n",
      "\n",
      "    accuracy                           0.89       176\n",
      "   macro avg       0.59      0.62      0.61       176\n",
      "weighted avg       0.85      0.89      0.87       176\n",
      "\n"
     ]
    }
   ],
   "source": [
    "etc = ExtraTreesClassifier()\n",
    "model_training_metrics(etc)"
   ]
  },
  {
   "cell_type": "markdown",
   "metadata": {},
   "source": [
    "# AdaBoostClassifier"
   ]
  },
  {
   "cell_type": "code",
   "execution_count": 154,
   "metadata": {
    "ExecuteTime": {
     "end_time": "2021-08-23T15:13:03.807024Z",
     "start_time": "2021-08-23T15:13:03.709948Z"
    }
   },
   "outputs": [
    {
     "name": "stdout",
     "output_type": "stream",
     "text": [
      "              precision    recall  f1-score   support\n",
      "\n",
      "           0       0.83      0.84      0.83        80\n",
      "           1       0.80      0.81      0.80        88\n",
      "           2       0.33      0.25      0.29         8\n",
      "\n",
      "    accuracy                           0.80       176\n",
      "   macro avg       0.65      0.63      0.64       176\n",
      "weighted avg       0.79      0.80      0.79       176\n",
      "\n"
     ]
    }
   ],
   "source": [
    "ada = AdaBoostClassifier()\n",
    "model_training_metrics(ada)"
   ]
  },
  {
   "cell_type": "markdown",
   "metadata": {
    "ExecuteTime": {
     "end_time": "2021-08-23T14:40:07.955912Z",
     "start_time": "2021-08-23T14:40:07.945393Z"
    }
   },
   "source": [
    "# Support Vector Machine"
   ]
  },
  {
   "cell_type": "code",
   "execution_count": 155,
   "metadata": {
    "ExecuteTime": {
     "end_time": "2021-08-23T15:13:05.801976Z",
     "start_time": "2021-08-23T15:13:05.765977Z"
    }
   },
   "outputs": [
    {
     "name": "stdout",
     "output_type": "stream",
     "text": [
      "              precision    recall  f1-score   support\n",
      "\n",
      "           0       0.93      0.82      0.87        80\n",
      "           1       0.80      0.95      0.87        88\n",
      "           2       0.00      0.00      0.00         8\n",
      "\n",
      "    accuracy                           0.85       176\n",
      "   macro avg       0.58      0.59      0.58       176\n",
      "weighted avg       0.82      0.85      0.83       176\n",
      "\n"
     ]
    }
   ],
   "source": [
    "svc = SVC()\n",
    "model_training_metrics(svc)"
   ]
  },
  {
   "cell_type": "markdown",
   "metadata": {
    "ExecuteTime": {
     "end_time": "2021-08-23T14:41:14.927794Z",
     "start_time": "2021-08-23T14:41:14.922657Z"
    }
   },
   "source": [
    "# Linear svc"
   ]
  },
  {
   "cell_type": "code",
   "execution_count": 156,
   "metadata": {
    "ExecuteTime": {
     "end_time": "2021-08-23T15:13:08.428055Z",
     "start_time": "2021-08-23T15:13:08.344845Z"
    }
   },
   "outputs": [
    {
     "name": "stdout",
     "output_type": "stream",
     "text": [
      "              precision    recall  f1-score   support\n",
      "\n",
      "           0       0.94      0.75      0.83        80\n",
      "           1       0.76      0.97      0.85        88\n",
      "           2       0.00      0.00      0.00         8\n",
      "\n",
      "    accuracy                           0.82       176\n",
      "   macro avg       0.57      0.57      0.56       176\n",
      "weighted avg       0.81      0.82      0.80       176\n",
      "\n"
     ]
    }
   ],
   "source": [
    "svc = LinearSVC()\n",
    "model_training_metrics(svc)"
   ]
  },
  {
   "cell_type": "markdown",
   "metadata": {
    "ExecuteTime": {
     "end_time": "2021-08-23T14:43:07.410203Z",
     "start_time": "2021-08-23T14:43:07.395189Z"
    }
   },
   "source": [
    "# Logistic regression"
   ]
  },
  {
   "cell_type": "code",
   "execution_count": 157,
   "metadata": {
    "ExecuteTime": {
     "end_time": "2021-08-23T15:13:15.916612Z",
     "start_time": "2021-08-23T15:13:15.866567Z"
    }
   },
   "outputs": [
    {
     "name": "stdout",
     "output_type": "stream",
     "text": [
      "              precision    recall  f1-score   support\n",
      "\n",
      "           0       0.91      0.84      0.87        80\n",
      "           1       0.80      0.93      0.86        88\n",
      "           2       0.00      0.00      0.00         8\n",
      "\n",
      "    accuracy                           0.85       176\n",
      "   macro avg       0.57      0.59      0.58       176\n",
      "weighted avg       0.81      0.85      0.83       176\n",
      "\n"
     ]
    }
   ],
   "source": [
    "lr = LogisticRegression()\n",
    "model_training_metrics(lr)"
   ]
  },
  {
   "cell_type": "markdown",
   "metadata": {},
   "source": [
    "# Ridge CV"
   ]
  },
  {
   "cell_type": "code",
   "execution_count": 158,
   "metadata": {
    "ExecuteTime": {
     "end_time": "2021-08-23T15:13:19.954230Z",
     "start_time": "2021-08-23T15:13:19.930181Z"
    }
   },
   "outputs": [
    {
     "name": "stdout",
     "output_type": "stream",
     "text": [
      "              precision    recall  f1-score   support\n",
      "\n",
      "           0       0.93      0.86      0.90        80\n",
      "           1       0.82      0.95      0.88        88\n",
      "           2       0.00      0.00      0.00         8\n",
      "\n",
      "    accuracy                           0.87       176\n",
      "   macro avg       0.59      0.61      0.59       176\n",
      "weighted avg       0.84      0.87      0.85       176\n",
      "\n"
     ]
    }
   ],
   "source": [
    "rcv = RidgeClassifier()\n",
    "model_training_metrics(rcv)"
   ]
  },
  {
   "cell_type": "markdown",
   "metadata": {},
   "source": [
    "# Knearest Neighbour"
   ]
  },
  {
   "cell_type": "code",
   "execution_count": 159,
   "metadata": {
    "ExecuteTime": {
     "end_time": "2021-08-23T15:13:22.283261Z",
     "start_time": "2021-08-23T15:13:22.260233Z"
    }
   },
   "outputs": [
    {
     "name": "stdout",
     "output_type": "stream",
     "text": [
      "              precision    recall  f1-score   support\n",
      "\n",
      "           0       0.88      0.85      0.87        80\n",
      "           1       0.82      0.92      0.87        88\n",
      "           2       0.00      0.00      0.00         8\n",
      "\n",
      "    accuracy                           0.85       176\n",
      "   macro avg       0.57      0.59      0.58       176\n",
      "weighted avg       0.81      0.85      0.83       176\n",
      "\n"
     ]
    }
   ],
   "source": [
    "knn = KNeighborsClassifier()\n",
    "model_training_metrics(knn)"
   ]
  },
  {
   "cell_type": "markdown",
   "metadata": {},
   "source": [
    "# LightGBM"
   ]
  },
  {
   "cell_type": "code",
   "execution_count": 160,
   "metadata": {
    "ExecuteTime": {
     "end_time": "2021-08-23T15:13:24.579895Z",
     "start_time": "2021-08-23T15:13:24.364334Z"
    }
   },
   "outputs": [
    {
     "name": "stdout",
     "output_type": "stream",
     "text": [
      "              precision    recall  f1-score   support\n",
      "\n",
      "           0       0.90      0.93      0.91        80\n",
      "           1       0.89      0.89      0.89        88\n",
      "           2       0.33      0.25      0.29         8\n",
      "\n",
      "    accuracy                           0.88       176\n",
      "   macro avg       0.71      0.69      0.70       176\n",
      "weighted avg       0.87      0.88      0.87       176\n",
      "\n"
     ]
    }
   ],
   "source": [
    "lgbm = LGBMClassifier()\n",
    "model_training_metrics(lgbm)"
   ]
  },
  {
   "cell_type": "markdown",
   "metadata": {},
   "source": [
    "# XGBClassifier"
   ]
  },
  {
   "cell_type": "code",
   "execution_count": 163,
   "metadata": {
    "ExecuteTime": {
     "end_time": "2021-08-23T15:14:29.161900Z",
     "start_time": "2021-08-23T15:14:28.919392Z"
    }
   },
   "outputs": [
    {
     "name": "stdout",
     "output_type": "stream",
     "text": [
      "[20:44:28] WARNING: C:/Users/Administrator/workspace/xgboost-win64_release_1.4.0/src/learner.cc:1095: Starting in XGBoost 1.3.0, the default evaluation metric used with the objective 'multi:softprob' was changed from 'merror' to 'mlogloss'. Explicitly set eval_metric if you'd like to restore the old behavior.\n",
      "              precision    recall  f1-score   support\n",
      "\n",
      "           0       0.92      0.95      0.93        80\n",
      "           1       0.91      0.89      0.90        88\n",
      "           2       0.29      0.25      0.27         8\n",
      "\n",
      "    accuracy                           0.89       176\n",
      "   macro avg       0.70      0.70      0.70       176\n",
      "weighted avg       0.88      0.89      0.88       176\n",
      "\n"
     ]
    }
   ],
   "source": [
    "xgb = XGBClassifier()\n",
    "model_training_metrics(xgb)"
   ]
  },
  {
   "cell_type": "markdown",
   "metadata": {},
   "source": [
    "# Saving Model"
   ]
  },
  {
   "cell_type": "code",
   "execution_count": 166,
   "metadata": {
    "ExecuteTime": {
     "end_time": "2021-08-23T15:16:34.394524Z",
     "start_time": "2021-08-23T15:16:34.380525Z"
    }
   },
   "outputs": [],
   "source": [
    "pickle.dump(rfc, open(\"model.cpickle\", \"wb\"))"
   ]
  },
  {
   "cell_type": "code",
   "execution_count": 167,
   "metadata": {
    "ExecuteTime": {
     "end_time": "2021-08-23T15:16:53.679830Z",
     "start_time": "2021-08-23T15:16:53.659832Z"
    }
   },
   "outputs": [],
   "source": [
    "model = pickle.load(open(\"model.cpickle\", \"rb\"))"
   ]
  },
  {
   "cell_type": "code",
   "execution_count": 169,
   "metadata": {
    "ExecuteTime": {
     "end_time": "2021-08-23T15:17:28.753816Z",
     "start_time": "2021-08-23T15:17:28.733824Z"
    }
   },
   "outputs": [
    {
     "data": {
      "text/plain": [
       "RandomForestClassifier()"
      ]
     },
     "execution_count": 169,
     "metadata": {},
     "output_type": "execute_result"
    }
   ],
   "source": [
    "model"
   ]
  },
  {
   "cell_type": "code",
   "execution_count": 4,
   "metadata": {
    "ExecuteTime": {
     "end_time": "2021-08-25T11:37:33.409978Z",
     "start_time": "2021-08-25T11:37:33.376965Z"
    }
   },
   "outputs": [],
   "source": [
    "df = pd.read_csv(\"../dataset/crop_db.csv\")"
   ]
  },
  {
   "cell_type": "code",
   "execution_count": 5,
   "metadata": {
    "ExecuteTime": {
     "end_time": "2021-08-25T11:37:36.383911Z",
     "start_time": "2021-08-25T11:37:36.344911Z"
    }
   },
   "outputs": [
    {
     "data": {
      "text/html": [
       "<div>\n",
       "<style scoped>\n",
       "    .dataframe tbody tr th:only-of-type {\n",
       "        vertical-align: middle;\n",
       "    }\n",
       "\n",
       "    .dataframe tbody tr th {\n",
       "        vertical-align: top;\n",
       "    }\n",
       "\n",
       "    .dataframe thead th {\n",
       "        text-align: right;\n",
       "    }\n",
       "</style>\n",
       "<table border=\"1\" class=\"dataframe\">\n",
       "  <thead>\n",
       "    <tr style=\"text-align: right;\">\n",
       "      <th></th>\n",
       "      <th>crop</th>\n",
       "      <th>min_rainfall</th>\n",
       "      <th>max_rainfall</th>\n",
       "      <th>fertility</th>\n",
       "    </tr>\n",
       "  </thead>\n",
       "  <tbody>\n",
       "    <tr>\n",
       "      <th>0</th>\n",
       "      <td>Rice</td>\n",
       "      <td>500</td>\n",
       "      <td>1000</td>\n",
       "      <td>2</td>\n",
       "    </tr>\n",
       "    <tr>\n",
       "      <th>1</th>\n",
       "      <td>Wheat</td>\n",
       "      <td>450</td>\n",
       "      <td>650</td>\n",
       "      <td>2</td>\n",
       "    </tr>\n",
       "    <tr>\n",
       "      <th>2</th>\n",
       "      <td>Sorghum</td>\n",
       "      <td>450</td>\n",
       "      <td>650</td>\n",
       "      <td>1</td>\n",
       "    </tr>\n",
       "    <tr>\n",
       "      <th>3</th>\n",
       "      <td>Maize</td>\n",
       "      <td>500</td>\n",
       "      <td>800</td>\n",
       "      <td>1</td>\n",
       "    </tr>\n",
       "    <tr>\n",
       "      <th>4</th>\n",
       "      <td>Sugarcane</td>\n",
       "      <td>150</td>\n",
       "      <td>550</td>\n",
       "      <td>2</td>\n",
       "    </tr>\n",
       "  </tbody>\n",
       "</table>\n",
       "</div>"
      ],
      "text/plain": [
       "        crop  min_rainfall  max_rainfall  fertility\n",
       "0       Rice           500          1000          2\n",
       "1      Wheat           450           650          2\n",
       "2    Sorghum           450           650          1\n",
       "3      Maize           500           800          1\n",
       "4  Sugarcane           150           550          2"
      ]
     },
     "execution_count": 5,
     "metadata": {},
     "output_type": "execute_result"
    }
   ],
   "source": [
    "df.head()"
   ]
  },
  {
   "cell_type": "code",
   "execution_count": 7,
   "metadata": {
    "ExecuteTime": {
     "end_time": "2021-08-25T11:37:52.897091Z",
     "start_time": "2021-08-25T11:37:52.878499Z"
    }
   },
   "outputs": [
    {
     "data": {
      "text/plain": [
       "74"
      ]
     },
     "execution_count": 7,
     "metadata": {},
     "output_type": "execute_result"
    }
   ],
   "source": [
    "len(df['crop'].unique())"
   ]
  },
  {
   "cell_type": "code",
   "execution_count": 9,
   "metadata": {
    "ExecuteTime": {
     "end_time": "2021-08-25T11:38:19.740438Z",
     "start_time": "2021-08-25T11:38:19.732896Z"
    }
   },
   "outputs": [
    {
     "data": {
      "text/plain": [
       "array([2, 1, 0], dtype=int64)"
      ]
     },
     "execution_count": 9,
     "metadata": {},
     "output_type": "execute_result"
    }
   ],
   "source": [
    "df['fertility'].unique()"
   ]
  },
  {
   "cell_type": "code",
   "execution_count": 16,
   "metadata": {
    "ExecuteTime": {
     "end_time": "2021-08-25T11:46:14.019038Z",
     "start_time": "2021-08-25T11:46:14.002766Z"
    }
   },
   "outputs": [],
   "source": [
    "min_rainfall = sorted(set(df['min_rainfall']))\n",
    "max_rainfall = sorted(set(df['max_rainfall']))\n",
    "rainfall_data = {\"min_rainfall\": min_rainfall, \"max_rainfall\": max_rainfall}\n",
    "pickle.dump(rainfall_data, open(\"rainfall_stats.pkl\", \"wb\"))"
   ]
  },
  {
   "cell_type": "code",
   "execution_count": null,
   "metadata": {},
   "outputs": [],
   "source": []
  }
 ],
 "metadata": {
  "kernelspec": {
   "display_name": "Python [conda env:env_easyocr]",
   "language": "python",
   "name": "conda-env-env_easyocr-py"
  },
  "language_info": {
   "codemirror_mode": {
    "name": "ipython",
    "version": 3
   },
   "file_extension": ".py",
   "mimetype": "text/x-python",
   "name": "python",
   "nbconvert_exporter": "python",
   "pygments_lexer": "ipython3",
   "version": "3.6.5"
  },
  "toc": {
   "base_numbering": 1,
   "nav_menu": {},
   "number_sections": true,
   "sideBar": true,
   "skip_h1_title": false,
   "title_cell": "Table of Contents",
   "title_sidebar": "Contents",
   "toc_cell": false,
   "toc_position": {},
   "toc_section_display": true,
   "toc_window_display": false
  },
  "varInspector": {
   "cols": {
    "lenName": 16,
    "lenType": 16,
    "lenVar": 40
   },
   "kernels_config": {
    "python": {
     "delete_cmd_postfix": "",
     "delete_cmd_prefix": "del ",
     "library": "var_list.py",
     "varRefreshCmd": "print(var_dic_list())"
    },
    "r": {
     "delete_cmd_postfix": ") ",
     "delete_cmd_prefix": "rm(",
     "library": "var_list.r",
     "varRefreshCmd": "cat(var_dic_list()) "
    }
   },
   "types_to_exclude": [
    "module",
    "function",
    "builtin_function_or_method",
    "instance",
    "_Feature"
   ],
   "window_display": false
  }
 },
 "nbformat": 4,
 "nbformat_minor": 4
}
